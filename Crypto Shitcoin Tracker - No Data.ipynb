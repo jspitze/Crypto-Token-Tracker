{
 "cells": [
  {
   "cell_type": "code",
   "execution_count": 3,
   "metadata": {},
   "outputs": [],
   "source": [
    "import requests\n",
    "import json\n",
    "import time\n",
    "import pandas as pd\n",
    "import matplotlib.pyplot as plt\n",
    "import datetime\n",
    "from covalentcredentials import API_KEY, address\n",
    "\n",
    "#suppress scientific notation\n",
    "pd.options.display.float_format = '{:.9f}'.format"
   ]
  },
  {
   "cell_type": "markdown",
   "metadata": {},
   "source": [
    "## Covalent API"
   ]
  },
  {
   "cell_type": "code",
   "execution_count": 4,
   "metadata": {},
   "outputs": [],
   "source": [
    "COV_API_KEY = API_KEY\n",
    "\n",
    "hidelist = ['FLUX', 'EVER', 'ARKR.org', 'FF18.io', 'Swap7.org', 'Money', 'FATDOGE', 'FBONK', 'H3X', 'XCH5.io', 'PEBO',\n",
    "         'AGMC.io', 'GUH', 'Def8.io', 'BeeToken', 'SHIBO', 'DCAT']"
   ]
  },
  {
   "cell_type": "markdown",
   "metadata": {},
   "source": [
    "#### Get Wallet Balances"
   ]
  },
  {
   "cell_type": "code",
   "execution_count": 3,
   "metadata": {},
   "outputs": [],
   "source": [
    "def get_wallet(address, API_KEY, hidelist):\n",
    "    wallet = []\n",
    "    balance_url = 'https://api.covalenthq.com/v1/56/address/{}/balances_v2/?quote-currency=USD&key={}'.format(address, API_KEY)\n",
    "    resp = json.loads(requests.get(balance_url).text)\n",
    "    for i in resp['data']['items']:\n",
    "        if i['contract_ticker_symbol'] in hidelist:\n",
    "            pass\n",
    "        else:\n",
    "            decimal = int(i['contract_decimals'])\n",
    "            coin = {'Name': i['contract_ticker_symbol'], 'Contract': i['contract_address'],'Balance': float(i['balance'])*(10**(-decimal)), \n",
    "                'Price': i['quote_rate'], 'USD Value': i['quote']}\n",
    "            wallet.append(coin)\n",
    "    return wallet"
   ]
  },
  {
   "cell_type": "code",
   "execution_count": 4,
   "metadata": {},
   "outputs": [],
   "source": [
    "wallet = get_wallet(address, COV_API_KEY, hidelist)"
   ]
  },
  {
   "cell_type": "markdown",
   "metadata": {},
   "source": [
    "#### Get Current Prices from PancakeSwap"
   ]
  },
  {
   "cell_type": "code",
   "execution_count": 5,
   "metadata": {},
   "outputs": [],
   "source": [
    "def get_prices(wallet):\n",
    "    base_url = 'https://api.pancakeswap.info/api/v2/tokens/'\n",
    "    updatedprices = []\n",
    "    for i in wallet:\n",
    "        token_address = i['Contract']\n",
    "        getprice = base_url + str(token_address)\n",
    "        print(getprice)\n",
    "        resp = json.loads(requests.get(getprice).text)\n",
    "        print(resp)\n",
    "        try:\n",
    "            price = resp['data']['price']\n",
    "            entry = {'Name': i['Name'], 'Price': price}\n",
    "            updatedprices.append(entry)\n",
    "        except KeyError:\n",
    "            pass\n",
    "        \n",
    "    return updatedprices"
   ]
  },
  {
   "cell_type": "code",
   "execution_count": 5,
   "metadata": {},
   "outputs": [
    {
     "ename": "NameError",
     "evalue": "name 'get_prices' is not defined",
     "output_type": "error",
     "traceback": [
      "\u001b[1;31m---------------------------------------------------------------------------\u001b[0m",
      "\u001b[1;31mNameError\u001b[0m                                 Traceback (most recent call last)",
      "\u001b[1;32m<ipython-input-5-174c2c769f40>\u001b[0m in \u001b[0;36m<module>\u001b[1;34m\u001b[0m\n\u001b[1;32m----> 1\u001b[1;33m \u001b[0mcurrent_prices\u001b[0m \u001b[1;33m=\u001b[0m \u001b[0mget_prices\u001b[0m\u001b[1;33m(\u001b[0m\u001b[0mwallet\u001b[0m\u001b[1;33m)\u001b[0m\u001b[1;33m\u001b[0m\u001b[1;33m\u001b[0m\u001b[0m\n\u001b[0m",
      "\u001b[1;31mNameError\u001b[0m: name 'get_prices' is not defined"
     ]
    }
   ],
   "source": [
    "current_prices = get_prices(wallet)"
   ]
  },
  {
   "cell_type": "code",
   "execution_count": 7,
   "metadata": {},
   "outputs": [],
   "source": [
    "zerodrop = []\n",
    "for i in current_prices:\n",
    "    if float(i['Price']) == 0:\n",
    "        if i['Name'] != 'BNB':\n",
    "            zerodrop.append(i['Name'])"
   ]
  },
  {
   "cell_type": "code",
   "execution_count": 8,
   "metadata": {},
   "outputs": [],
   "source": [
    "for i in wallet:\n",
    "    for j in current_prices:\n",
    "        if j['Name'] == i['Name']:\n",
    "            i['Price'] = j['Price']"
   ]
  },
  {
   "cell_type": "markdown",
   "metadata": {},
   "source": [
    "#### Get Transactions"
   ]
  },
  {
   "cell_type": "code",
   "execution_count": 9,
   "metadata": {},
   "outputs": [],
   "source": [
    "# Loops through all transactions of each token. Gathers price of bnb at time of transaction * quantity of bnb purchase. \n",
    "# Returns total net cost (minus gas fees) after summing USD value of all transactions for a given token\n",
    "def get_transactions(wallet, address, API_KEY):\n",
    "    netcostlist = []\n",
    "    for i in wallet:\n",
    "        print(i['Name'])\n",
    "        transactions = {}\n",
    "        contract = i['Contract']\n",
    "        time.sleep(1)\n",
    "        txurl = 'https://api.covalenthq.com/v1/56/address/{}/transfers_v2/?quote-currency=USD&format=JSON&contract-address={}&key={}'.format(address, contract, API_KEY)\n",
    "        txresp = json.loads(requests.get(txurl).text)\n",
    "        if txresp['data'] is not None:\n",
    "            txtotal = []\n",
    "            for j in txresp['data']['items']:\n",
    "                cut = j['block_signed_at'].split(\"T\")[0]\n",
    "                cutformat = pd.to_datetime(cut)\n",
    "                date = datetime.datetime.strftime(cutformat, \"%d-%m-%Y\")\n",
    "                bnbusd = round(json.loads(requests.get('https://api.coingecko.com/api/v3/coins/binancecoin/history?date={}'.format(date)).text)['market_data']['current_price']['usd'], 2)\n",
    "                time.sleep(1)\n",
    "                dollarvalue = (int(j['value'])*(1E-18)) * int(bnbusd)\n",
    "                txtotal.append(dollarvalue)\n",
    "        else:\n",
    "            txtotal = [0]\n",
    "        netcost = {'Name': i['Name'], 'Net Cost': sum(txtotal)}\n",
    "        netcostlist.append(netcost)\n",
    "    return netcostlist"
   ]
  },
  {
   "cell_type": "code",
   "execution_count": 6,
   "metadata": {},
   "outputs": [
    {
     "ename": "NameError",
     "evalue": "name 'get_transactions' is not defined",
     "output_type": "error",
     "traceback": [
      "\u001b[1;31m---------------------------------------------------------------------------\u001b[0m",
      "\u001b[1;31mNameError\u001b[0m                                 Traceback (most recent call last)",
      "\u001b[1;32m<ipython-input-6-9fb9be1a9971>\u001b[0m in \u001b[0;36m<module>\u001b[1;34m\u001b[0m\n\u001b[1;32m----> 1\u001b[1;33m \u001b[0mnetcost\u001b[0m \u001b[1;33m=\u001b[0m \u001b[0mget_transactions\u001b[0m\u001b[1;33m(\u001b[0m\u001b[0mwallet\u001b[0m\u001b[1;33m,\u001b[0m \u001b[0maddress\u001b[0m\u001b[1;33m,\u001b[0m \u001b[0mCOV_API_KEY\u001b[0m\u001b[1;33m)\u001b[0m\u001b[1;33m\u001b[0m\u001b[1;33m\u001b[0m\u001b[0m\n\u001b[0m",
      "\u001b[1;31mNameError\u001b[0m: name 'get_transactions' is not defined"
     ]
    }
   ],
   "source": [
    "netcost = get_transactions(wallet, address, COV_API_KEY)"
   ]
  },
  {
   "cell_type": "code",
   "execution_count": 7,
   "metadata": {},
   "outputs": [
    {
     "ename": "NameError",
     "evalue": "name 'netcost' is not defined",
     "output_type": "error",
     "traceback": [
      "\u001b[1;31m---------------------------------------------------------------------------\u001b[0m",
      "\u001b[1;31mNameError\u001b[0m                                 Traceback (most recent call last)",
      "\u001b[1;32m<ipython-input-7-277fbcdd548f>\u001b[0m in \u001b[0;36m<module>\u001b[1;34m\u001b[0m\n\u001b[1;32m----> 1\u001b[1;33m \u001b[0mprint\u001b[0m\u001b[1;33m(\u001b[0m\u001b[0mnetcost\u001b[0m\u001b[1;33m)\u001b[0m\u001b[1;33m\u001b[0m\u001b[1;33m\u001b[0m\u001b[0m\n\u001b[0m",
      "\u001b[1;31mNameError\u001b[0m: name 'netcost' is not defined"
     ]
    }
   ],
   "source": [
    "print(netcost)"
   ]
  },
  {
   "cell_type": "code",
   "execution_count": 12,
   "metadata": {},
   "outputs": [],
   "source": [
    "# Update wallet list of dicts with net cost value\n",
    "for i in wallet:\n",
    "    for j in netcost:\n",
    "        if j['Name'] == i['Name']:\n",
    "            i['Net Cost'] = j['Net Cost']"
   ]
  },
  {
   "cell_type": "code",
   "execution_count": 8,
   "metadata": {},
   "outputs": [
    {
     "ename": "NameError",
     "evalue": "name 'wallet' is not defined",
     "output_type": "error",
     "traceback": [
      "\u001b[1;31m---------------------------------------------------------------------------\u001b[0m",
      "\u001b[1;31mNameError\u001b[0m                                 Traceback (most recent call last)",
      "\u001b[1;32m<ipython-input-8-8a695a0cfda8>\u001b[0m in \u001b[0;36m<module>\u001b[1;34m\u001b[0m\n\u001b[1;32m----> 1\u001b[1;33m \u001b[0mwalletdf\u001b[0m \u001b[1;33m=\u001b[0m \u001b[0mpd\u001b[0m\u001b[1;33m.\u001b[0m\u001b[0mDataFrame\u001b[0m\u001b[1;33m(\u001b[0m\u001b[0mwallet\u001b[0m\u001b[1;33m)\u001b[0m\u001b[1;33m\u001b[0m\u001b[1;33m\u001b[0m\u001b[0m\n\u001b[0m\u001b[0;32m      2\u001b[0m \u001b[0mwalletdf\u001b[0m \u001b[1;33m=\u001b[0m \u001b[0mwalletdf\u001b[0m\u001b[1;33m[\u001b[0m\u001b[0mwalletdf\u001b[0m\u001b[1;33m[\u001b[0m\u001b[1;34m'Price'\u001b[0m\u001b[1;33m]\u001b[0m\u001b[1;33m.\u001b[0m\u001b[0mnotna\u001b[0m\u001b[1;33m(\u001b[0m\u001b[1;33m)\u001b[0m\u001b[1;33m]\u001b[0m\u001b[1;33m\u001b[0m\u001b[1;33m\u001b[0m\u001b[0m\n\u001b[0;32m      3\u001b[0m \u001b[0mwalletdf\u001b[0m\u001b[1;33m\u001b[0m\u001b[1;33m\u001b[0m\u001b[0m\n",
      "\u001b[1;31mNameError\u001b[0m: name 'wallet' is not defined"
     ]
    }
   ],
   "source": [
    "walletdf = pd.DataFrame(wallet)\n",
    "walletdf = walletdf[walletdf['Price'].notna()]\n",
    "walletdf"
   ]
  },
  {
   "cell_type": "code",
   "execution_count": 9,
   "metadata": {},
   "outputs": [
    {
     "ename": "NameError",
     "evalue": "name 'walletdf' is not defined",
     "output_type": "error",
     "traceback": [
      "\u001b[1;31m---------------------------------------------------------------------------\u001b[0m",
      "\u001b[1;31mNameError\u001b[0m                                 Traceback (most recent call last)",
      "\u001b[1;32m<ipython-input-9-ca210ed11912>\u001b[0m in \u001b[0;36m<module>\u001b[1;34m\u001b[0m\n\u001b[1;32m----> 1\u001b[1;33m \u001b[0mwalletdf\u001b[0m\u001b[1;33m[\u001b[0m\u001b[1;34m'Price'\u001b[0m\u001b[1;33m]\u001b[0m \u001b[1;33m=\u001b[0m \u001b[0mwalletdf\u001b[0m\u001b[1;33m[\u001b[0m\u001b[1;34m'Price'\u001b[0m\u001b[1;33m]\u001b[0m\u001b[1;33m.\u001b[0m\u001b[0mastype\u001b[0m\u001b[1;33m(\u001b[0m\u001b[0mfloat\u001b[0m\u001b[1;33m)\u001b[0m\u001b[1;33m\u001b[0m\u001b[1;33m\u001b[0m\u001b[0m\n\u001b[0m\u001b[0;32m      2\u001b[0m \u001b[0mwalletdf\u001b[0m\u001b[1;33m[\u001b[0m\u001b[1;34m'Balance'\u001b[0m\u001b[1;33m]\u001b[0m \u001b[1;33m=\u001b[0m \u001b[0mwalletdf\u001b[0m\u001b[1;33m[\u001b[0m\u001b[1;34m'Balance'\u001b[0m\u001b[1;33m]\u001b[0m\u001b[1;33m.\u001b[0m\u001b[0mastype\u001b[0m\u001b[1;33m(\u001b[0m\u001b[0mfloat\u001b[0m\u001b[1;33m)\u001b[0m\u001b[1;33m\u001b[0m\u001b[1;33m\u001b[0m\u001b[0m\n\u001b[0;32m      3\u001b[0m \u001b[0mwalletdf\u001b[0m\u001b[1;33m[\u001b[0m\u001b[1;34m'USD Value'\u001b[0m\u001b[1;33m]\u001b[0m \u001b[1;33m=\u001b[0m \u001b[0mwalletdf\u001b[0m\u001b[1;33m[\u001b[0m\u001b[1;34m'Balance'\u001b[0m\u001b[1;33m]\u001b[0m \u001b[1;33m*\u001b[0m \u001b[0mwalletdf\u001b[0m\u001b[1;33m[\u001b[0m\u001b[1;34m'Price'\u001b[0m\u001b[1;33m]\u001b[0m\u001b[1;33m\u001b[0m\u001b[1;33m\u001b[0m\u001b[0m\n",
      "\u001b[1;31mNameError\u001b[0m: name 'walletdf' is not defined"
     ]
    }
   ],
   "source": [
    "walletdf['Price'] = walletdf['Price'].astype(float)\n",
    "walletdf['Balance'] = walletdf['Balance'].astype(float)\n",
    "walletdf['USD Value'] = walletdf['Balance'] * walletdf['Price']"
   ]
  },
  {
   "cell_type": "code",
   "execution_count": 10,
   "metadata": {},
   "outputs": [
    {
     "ename": "NameError",
     "evalue": "name 'walletdf' is not defined",
     "output_type": "error",
     "traceback": [
      "\u001b[1;31m---------------------------------------------------------------------------\u001b[0m",
      "\u001b[1;31mNameError\u001b[0m                                 Traceback (most recent call last)",
      "\u001b[1;32m<ipython-input-10-d3993c9ba22c>\u001b[0m in \u001b[0;36m<module>\u001b[1;34m\u001b[0m\n\u001b[1;32m----> 1\u001b[1;33m \u001b[0mwalletdf\u001b[0m\u001b[1;33m[\u001b[0m\u001b[1;34m'Pct Gain'\u001b[0m\u001b[1;33m]\u001b[0m \u001b[1;33m=\u001b[0m \u001b[1;33m(\u001b[0m\u001b[1;33m(\u001b[0m\u001b[0mwalletdf\u001b[0m\u001b[1;33m[\u001b[0m\u001b[1;34m'USD Value'\u001b[0m\u001b[1;33m]\u001b[0m \u001b[1;33m-\u001b[0m \u001b[0mwalletdf\u001b[0m\u001b[1;33m[\u001b[0m\u001b[1;34m'Net Cost'\u001b[0m\u001b[1;33m]\u001b[0m\u001b[1;33m)\u001b[0m\u001b[1;33m/\u001b[0m\u001b[0mwalletdf\u001b[0m\u001b[1;33m[\u001b[0m\u001b[1;34m'Net Cost'\u001b[0m\u001b[1;33m]\u001b[0m\u001b[1;33m)\u001b[0m\u001b[1;33m*\u001b[0m\u001b[1;36m100\u001b[0m\u001b[1;33m\u001b[0m\u001b[1;33m\u001b[0m\u001b[0m\n\u001b[0m",
      "\u001b[1;31mNameError\u001b[0m: name 'walletdf' is not defined"
     ]
    }
   ],
   "source": [
    "walletdf['Pct Gain'] = ((walletdf['USD Value'] - walletdf['Net Cost'])/walletdf['Net Cost'])*100"
   ]
  },
  {
   "cell_type": "code",
   "execution_count": 11,
   "metadata": {},
   "outputs": [
    {
     "ename": "NameError",
     "evalue": "name 'walletdf' is not defined",
     "output_type": "error",
     "traceback": [
      "\u001b[1;31m---------------------------------------------------------------------------\u001b[0m",
      "\u001b[1;31mNameError\u001b[0m                                 Traceback (most recent call last)",
      "\u001b[1;32m<ipython-input-11-bb609e36bcc8>\u001b[0m in \u001b[0;36m<module>\u001b[1;34m\u001b[0m\n\u001b[1;32m----> 1\u001b[1;33m \u001b[0mwalletdf\u001b[0m\u001b[1;33m[\u001b[0m\u001b[1;33m~\u001b[0m\u001b[0mwalletdf\u001b[0m\u001b[1;33m[\u001b[0m\u001b[1;34m'Name'\u001b[0m\u001b[1;33m]\u001b[0m\u001b[1;33m.\u001b[0m\u001b[0misin\u001b[0m\u001b[1;33m(\u001b[0m\u001b[0mzerodrop\u001b[0m\u001b[1;33m)\u001b[0m\u001b[1;33m]\u001b[0m\u001b[1;33m\u001b[0m\u001b[1;33m\u001b[0m\u001b[0m\n\u001b[0m",
      "\u001b[1;31mNameError\u001b[0m: name 'walletdf' is not defined"
     ]
    }
   ],
   "source": [
    "walletdf[~walletdf['Name'].isin(zerodrop)]"
   ]
  },
  {
   "cell_type": "markdown",
   "metadata": {},
   "source": [
    "#### Historical Prices"
   ]
  },
  {
   "cell_type": "code",
   "execution_count": 20,
   "metadata": {},
   "outputs": [],
   "source": [
    "from datetime import datetime, timedelta\n",
    "import numpy as np\n",
    "\n",
    "weekstart = (datetime.today() - timedelta(days=7)).strftime(\"%Y-%m-%d\")\n",
    "weekend = datetime.today().strftime(\"%Y-%m-%d\")\n",
    "sixweek = (datetime.today() - timedelta(days=42)).strftime(\"%Y-%m-%d\")\n",
    "addresslist = list(walletdf['Contract'])"
   ]
  },
  {
   "cell_type": "code",
   "execution_count": 12,
   "metadata": {},
   "outputs": [
    {
     "ename": "NameError",
     "evalue": "name 'addresslist' is not defined",
     "output_type": "error",
     "traceback": [
      "\u001b[1;31m---------------------------------------------------------------------------\u001b[0m",
      "\u001b[1;31mNameError\u001b[0m                                 Traceback (most recent call last)",
      "\u001b[1;32m<ipython-input-12-b3d7a8592334>\u001b[0m in \u001b[0;36m<module>\u001b[1;34m\u001b[0m\n\u001b[0;32m     21\u001b[0m     \u001b[1;32mreturn\u001b[0m \u001b[0mweekpricelist\u001b[0m\u001b[1;33m\u001b[0m\u001b[1;33m\u001b[0m\u001b[0m\n\u001b[0;32m     22\u001b[0m \u001b[1;33m\u001b[0m\u001b[0m\n\u001b[1;32m---> 23\u001b[1;33m \u001b[0mweekprices_MA\u001b[0m \u001b[1;33m=\u001b[0m \u001b[0mget_week_MA\u001b[0m\u001b[1;33m(\u001b[0m\u001b[0maddresslist\u001b[0m\u001b[1;33m,\u001b[0m \u001b[0mweekstart\u001b[0m\u001b[1;33m,\u001b[0m \u001b[0mweekend\u001b[0m\u001b[1;33m,\u001b[0m \u001b[0mCOV_API_KEY\u001b[0m\u001b[1;33m)\u001b[0m\u001b[1;33m\u001b[0m\u001b[1;33m\u001b[0m\u001b[0m\n\u001b[0m",
      "\u001b[1;31mNameError\u001b[0m: name 'addresslist' is not defined"
     ]
    }
   ],
   "source": [
    "# 7 day moving average\n",
    "def get_week_MA(addresslist, start, end, COV_API_KEY):\n",
    "    weekpricelist=[]\n",
    "    for address in addresslist:\n",
    "        tmp = []\n",
    "        try:\n",
    "            weekurl = 'https://api.covalenthq.com/v1/pricing/historical_by_addresses_v2/56/USD/{}/?quote-currency=USD&format=JSON&from={}&to={}&key={}'.format(address,start,end, COV_API_KEY)\n",
    "            resp = json.loads(requests.get(weekurl).text)\n",
    "            print(resp['data'])\n",
    "            time.sleep(1)\n",
    "            for i in range(7):\n",
    "                tmp.append(resp['data']['prices'][0]['prices'][i]['price'])\n",
    "            weekavg = np.average(tmp)\n",
    "            entry = {'Name': resp['data']['prices'][0]['prices'][7]['contract_metadata']['contract_ticker_symbol'], '7-Day MA': weekavg}\n",
    "            weekpricelist.append(entry)\n",
    "            print(resp['data']['prices'][0]['prices'][7]['contract_metadata']['contract_ticker_symbol'])\n",
    "        except IndexError:\n",
    "            entry = {'Name': resp['data']['prices'][0]['contract_ticker_symbol'], '7-Day MA': 'NaN'}\n",
    "            weekpricelist.append(entry)\n",
    "            print(resp['data']['prices'][0]['contract_name'])\n",
    "    return weekpricelist\n",
    "\n",
    "weekprices_MA = get_week_MA(addresslist, weekstart, weekend, COV_API_KEY)"
   ]
  },
  {
   "cell_type": "code",
   "execution_count": 39,
   "metadata": {},
   "outputs": [],
   "source": [
    "weekprices_MA\n",
    "week_MA_df = pd.DataFrame(weekprices_MA)\n",
    "walletdf['7 Day Moving Average'] = week_MA_df['7-Day MA']"
   ]
  },
  {
   "cell_type": "code",
   "execution_count": 13,
   "metadata": {},
   "outputs": [
    {
     "ename": "NameError",
     "evalue": "name 'addresslist' is not defined",
     "output_type": "error",
     "traceback": [
      "\u001b[1;31m---------------------------------------------------------------------------\u001b[0m",
      "\u001b[1;31mNameError\u001b[0m                                 Traceback (most recent call last)",
      "\u001b[1;32m<ipython-input-13-c14fdccde60a>\u001b[0m in \u001b[0;36m<module>\u001b[1;34m\u001b[0m\n\u001b[0;32m     20\u001b[0m     \u001b[1;32mreturn\u001b[0m \u001b[0mweekpricelist\u001b[0m\u001b[1;33m\u001b[0m\u001b[1;33m\u001b[0m\u001b[0m\n\u001b[0;32m     21\u001b[0m \u001b[1;33m\u001b[0m\u001b[0m\n\u001b[1;32m---> 22\u001b[1;33m \u001b[0msixweeks_MA\u001b[0m \u001b[1;33m=\u001b[0m \u001b[0mget_6week_MA\u001b[0m\u001b[1;33m(\u001b[0m\u001b[0maddresslist\u001b[0m\u001b[1;33m,\u001b[0m \u001b[0msixweek\u001b[0m\u001b[1;33m,\u001b[0m \u001b[0mweekend\u001b[0m\u001b[1;33m,\u001b[0m \u001b[0mCOV_API_KEY\u001b[0m\u001b[1;33m)\u001b[0m\u001b[1;33m\u001b[0m\u001b[1;33m\u001b[0m\u001b[0m\n\u001b[0m\u001b[0;32m     23\u001b[0m \u001b[0mprint\u001b[0m\u001b[1;33m(\u001b[0m\u001b[0msixweeks_MA\u001b[0m\u001b[1;33m)\u001b[0m\u001b[1;33m\u001b[0m\u001b[1;33m\u001b[0m\u001b[0m\n",
      "\u001b[1;31mNameError\u001b[0m: name 'addresslist' is not defined"
     ]
    }
   ],
   "source": [
    "# 6 week Moving Average\n",
    "def get_6week_MA(addresslist, start, end, COV_API_KEY):\n",
    "    weekpricelist=[]\n",
    "    for address in addresslist:\n",
    "        tmp = []\n",
    "        try:\n",
    "            weekurl = 'https://api.covalenthq.com/v1/pricing/historical_by_addresses_v2/56/USD/{}/?quote-currency=USD&format=JSON&from={}&to={}&key={}'.format(address,start,end, COV_API_KEY)\n",
    "            resp = json.loads(requests.get(weekurl).text)\n",
    "            time.sleep(1)\n",
    "            for i in range(42):\n",
    "                tmp.append(resp['data']['prices'][0]['prices'][i]['price'])\n",
    "            weekavg = np.average(tmp)\n",
    "            entry = {'Name': resp['data']['prices'][0]['prices'][7]['contract_metadata']['contract_ticker_symbol'], '6 Week MA': weekavg}\n",
    "            weekpricelist.append(entry)\n",
    "            print(resp['data']['prices'][0]['prices'][7]['contract_metadata']['contract_ticker_symbol'])\n",
    "        except IndexError:\n",
    "            entry = {'Name': resp['data']['prices'][0]['contract_ticker_symbol'], '6 Week MA': 'NaN'}\n",
    "            weekpricelist.append(entry)\n",
    "            print(resp['data']['prices'][0]['contract_name'])\n",
    "    return weekpricelist\n",
    "\n",
    "sixweeks_MA = get_6week_MA(addresslist, sixweek, weekend, COV_API_KEY)\n",
    "print(sixweeks_MA)"
   ]
  },
  {
   "cell_type": "code",
   "execution_count": 42,
   "metadata": {},
   "outputs": [],
   "source": [
    "sixweeks_MA_df = pd.DataFrame(sixweeks_MA)\n",
    "sixweeks_MA_df\n",
    "walletdf['6 Week Moving Average'] = sixweeks_MA_df['6 Week MA']"
   ]
  },
  {
   "cell_type": "code",
   "execution_count": 43,
   "metadata": {},
   "outputs": [],
   "source": [
    "walletdf = walletdf[walletdf['Name'].str.contains(\"None\") == False]"
   ]
  },
  {
   "cell_type": "code",
   "execution_count": 14,
   "metadata": {},
   "outputs": [
    {
     "ename": "NameError",
     "evalue": "name 'walletdf' is not defined",
     "output_type": "error",
     "traceback": [
      "\u001b[1;31m---------------------------------------------------------------------------\u001b[0m",
      "\u001b[1;31mNameError\u001b[0m                                 Traceback (most recent call last)",
      "\u001b[1;32m<ipython-input-14-efed14c590a2>\u001b[0m in \u001b[0;36m<module>\u001b[1;34m\u001b[0m\n\u001b[0;32m     12\u001b[0m     \u001b[1;32mreturn\u001b[0m \u001b[1;34mf'background-color: {color}'\u001b[0m\u001b[1;33m\u001b[0m\u001b[1;33m\u001b[0m\u001b[0m\n\u001b[0;32m     13\u001b[0m \u001b[1;33m\u001b[0m\u001b[0m\n\u001b[1;32m---> 14\u001b[1;33m \u001b[0mwalletdf\u001b[0m\u001b[1;33m.\u001b[0m\u001b[0mstyle\u001b[0m\u001b[1;33m.\u001b[0m\u001b[0mapplymap\u001b[0m\u001b[1;33m(\u001b[0m\u001b[0mhighlight_cell\u001b[0m\u001b[1;33m,\u001b[0m \u001b[0msubset\u001b[0m\u001b[1;33m=\u001b[0m\u001b[1;33m[\u001b[0m\u001b[1;34m'Pct Gain'\u001b[0m\u001b[1;33m]\u001b[0m\u001b[1;33m)\u001b[0m\u001b[1;33m\u001b[0m\u001b[1;33m\u001b[0m\u001b[0m\n\u001b[0m",
      "\u001b[1;31mNameError\u001b[0m: name 'walletdf' is not defined"
     ]
    }
   ],
   "source": [
    "# Filter Pct Gain Column in the green or red\n",
    "\n",
    "def color_negative_red(val):\n",
    "    color = 'red' if val < 0 else 'green'\n",
    "    return f'color: {color}'\n",
    "\n",
    "def highlight_cell(val):\n",
    "    if val > 0:\n",
    "        color = 'green'\n",
    "    else:\n",
    "        color = 'red'\n",
    "    return f'background-color: {color}'\n",
    "\n",
    "walletdf.style.applymap(highlight_cell, subset=['Pct Gain'])"
   ]
  },
  {
   "cell_type": "code",
   "execution_count": 15,
   "metadata": {},
   "outputs": [
    {
     "ename": "NameError",
     "evalue": "name 'walletdf' is not defined",
     "output_type": "error",
     "traceback": [
      "\u001b[1;31m---------------------------------------------------------------------------\u001b[0m",
      "\u001b[1;31mNameError\u001b[0m                                 Traceback (most recent call last)",
      "\u001b[1;32m<ipython-input-15-696ac800ebf6>\u001b[0m in \u001b[0;36m<module>\u001b[1;34m\u001b[0m\n\u001b[1;32m----> 1\u001b[1;33m \u001b[0mwalletdf\u001b[0m\u001b[1;33m.\u001b[0m\u001b[0mreset_index\u001b[0m\u001b[1;33m(\u001b[0m\u001b[0mdrop\u001b[0m\u001b[1;33m=\u001b[0m\u001b[1;32mTrue\u001b[0m\u001b[1;33m,\u001b[0m \u001b[0minplace\u001b[0m\u001b[1;33m=\u001b[0m\u001b[1;32mTrue\u001b[0m\u001b[1;33m)\u001b[0m\u001b[1;33m\u001b[0m\u001b[1;33m\u001b[0m\u001b[0m\n\u001b[0m\u001b[0;32m      2\u001b[0m \u001b[0mwalletdf\u001b[0m\u001b[1;33m\u001b[0m\u001b[1;33m\u001b[0m\u001b[0m\n",
      "\u001b[1;31mNameError\u001b[0m: name 'walletdf' is not defined"
     ]
    }
   ],
   "source": [
    "walletdf.reset_index(drop=True, inplace=True)\n",
    "walletdf"
   ]
  },
  {
   "cell_type": "markdown",
   "metadata": {},
   "source": [
    "### Generate Figures from Dataframe"
   ]
  },
  {
   "cell_type": "code",
   "execution_count": 16,
   "metadata": {},
   "outputs": [
    {
     "ename": "NameError",
     "evalue": "name 'walletdf' is not defined",
     "output_type": "error",
     "traceback": [
      "\u001b[1;31m---------------------------------------------------------------------------\u001b[0m",
      "\u001b[1;31mNameError\u001b[0m                                 Traceback (most recent call last)",
      "\u001b[1;32m<ipython-input-16-5c5d2af2a717>\u001b[0m in \u001b[0;36m<module>\u001b[1;34m\u001b[0m\n\u001b[0;32m      2\u001b[0m \u001b[1;32mimport\u001b[0m \u001b[0mpathlib\u001b[0m\u001b[1;33m\u001b[0m\u001b[1;33m\u001b[0m\u001b[0m\n\u001b[0;32m      3\u001b[0m \u001b[1;33m\u001b[0m\u001b[0m\n\u001b[1;32m----> 4\u001b[1;33m \u001b[0mdist\u001b[0m \u001b[1;33m=\u001b[0m \u001b[0mwalletdf\u001b[0m\u001b[1;33m.\u001b[0m\u001b[0mgroupby\u001b[0m\u001b[1;33m(\u001b[0m\u001b[1;33m[\u001b[0m\u001b[1;34m'Name'\u001b[0m\u001b[1;33m]\u001b[0m\u001b[1;33m)\u001b[0m\u001b[1;33m.\u001b[0m\u001b[0msum\u001b[0m\u001b[1;33m(\u001b[0m\u001b[1;33m)\u001b[0m\u001b[1;33m.\u001b[0m\u001b[0mplot\u001b[0m\u001b[1;33m(\u001b[0m\u001b[0mkind\u001b[0m \u001b[1;33m=\u001b[0m \u001b[1;34m'pie'\u001b[0m\u001b[1;33m,\u001b[0m \u001b[0my\u001b[0m \u001b[1;33m=\u001b[0m \u001b[1;34m'USD Value'\u001b[0m\u001b[1;33m,\u001b[0m \u001b[0mautopct\u001b[0m \u001b[1;33m=\u001b[0m \u001b[1;34m'%1.0f%%'\u001b[0m\u001b[1;33m,\u001b[0m \u001b[0mpctdistance\u001b[0m \u001b[1;33m=\u001b[0m \u001b[1;36m.8\u001b[0m\u001b[1;33m,\u001b[0m \u001b[0mlabeldistance\u001b[0m \u001b[1;33m=\u001b[0m \u001b[1;36m1\u001b[0m\u001b[1;33m,\u001b[0m \u001b[0mfigsize\u001b[0m \u001b[1;33m=\u001b[0m \u001b[1;33m(\u001b[0m\u001b[1;36m7\u001b[0m\u001b[1;33m,\u001b[0m\u001b[1;36m7\u001b[0m\u001b[1;33m)\u001b[0m\u001b[1;33m,\u001b[0m \u001b[0mlegend\u001b[0m\u001b[1;33m=\u001b[0m\u001b[1;32mFalse\u001b[0m\u001b[1;33m,\u001b[0m \u001b[0mtitle\u001b[0m \u001b[1;33m=\u001b[0m \u001b[1;34m\"Distribution of Funds in USD\"\u001b[0m\u001b[1;33m)\u001b[0m\u001b[1;33m\u001b[0m\u001b[1;33m\u001b[0m\u001b[0m\n\u001b[0m\u001b[0;32m      5\u001b[0m \u001b[0mfig1\u001b[0m \u001b[1;33m=\u001b[0m \u001b[0mdist\u001b[0m\u001b[1;33m.\u001b[0m\u001b[0mfigure\u001b[0m\u001b[1;33m\u001b[0m\u001b[1;33m\u001b[0m\u001b[0m\n\u001b[0;32m      6\u001b[0m \u001b[0mcwd\u001b[0m \u001b[1;33m=\u001b[0m \u001b[0mos\u001b[0m\u001b[1;33m.\u001b[0m\u001b[0mgetcwd\u001b[0m\u001b[1;33m(\u001b[0m\u001b[1;33m)\u001b[0m\u001b[1;33m\u001b[0m\u001b[1;33m\u001b[0m\u001b[0m\n",
      "\u001b[1;31mNameError\u001b[0m: name 'walletdf' is not defined"
     ]
    }
   ],
   "source": [
    "import os\n",
    "import pathlib\n",
    "\n",
    "dist = walletdf.groupby(['Name']).sum().plot(kind = 'pie', y = 'USD Value', autopct = '%1.0f%%', pctdistance = .8, labeldistance = 1, figsize = (7,7), legend=False, title = \"Distribution of Funds in USD\")\n",
    "fig1 = dist.figure\n",
    "cwd = os.getcwd()\n",
    "folder = r'\\results\\distfunds.png'\n",
    "path_plot = str(cwd) + folder\n",
    "print(path_plot)\n",
    "fig1.savefig(path_plot, dpi = fig1.dpi, bbox_inches = \"tight\")"
   ]
  },
  {
   "cell_type": "code",
   "execution_count": 17,
   "metadata": {},
   "outputs": [
    {
     "ename": "NameError",
     "evalue": "name 'walletdf' is not defined",
     "output_type": "error",
     "traceback": [
      "\u001b[1;31m---------------------------------------------------------------------------\u001b[0m",
      "\u001b[1;31mNameError\u001b[0m                                 Traceback (most recent call last)",
      "\u001b[1;32m<ipython-input-17-f0fe09105230>\u001b[0m in \u001b[0;36m<module>\u001b[1;34m\u001b[0m\n\u001b[0;32m      1\u001b[0m \u001b[0mneg\u001b[0m \u001b[1;33m=\u001b[0m \u001b[1;33m[\u001b[0m\u001b[1;33m]\u001b[0m\u001b[1;33m\u001b[0m\u001b[1;33m\u001b[0m\u001b[0m\n\u001b[1;32m----> 2\u001b[1;33m \u001b[1;32mfor\u001b[0m \u001b[0mindex\u001b[0m\u001b[1;33m,\u001b[0m \u001b[0mrow\u001b[0m \u001b[1;32min\u001b[0m \u001b[0mwalletdf\u001b[0m\u001b[1;33m.\u001b[0m\u001b[0miterrows\u001b[0m\u001b[1;33m(\u001b[0m\u001b[1;33m)\u001b[0m\u001b[1;33m:\u001b[0m\u001b[1;33m\u001b[0m\u001b[1;33m\u001b[0m\u001b[0m\n\u001b[0m\u001b[0;32m      3\u001b[0m     \u001b[1;32mif\u001b[0m \u001b[0mrow\u001b[0m\u001b[1;33m[\u001b[0m\u001b[1;34m'Pct Gain'\u001b[0m\u001b[1;33m]\u001b[0m \u001b[1;33m<\u001b[0m \u001b[1;36m0\u001b[0m\u001b[1;33m:\u001b[0m\u001b[1;33m\u001b[0m\u001b[1;33m\u001b[0m\u001b[0m\n\u001b[0;32m      4\u001b[0m         \u001b[0mneg\u001b[0m\u001b[1;33m.\u001b[0m\u001b[0mappend\u001b[0m\u001b[1;33m(\u001b[0m\u001b[1;34m'r'\u001b[0m\u001b[1;33m)\u001b[0m\u001b[1;33m\u001b[0m\u001b[1;33m\u001b[0m\u001b[0m\n\u001b[0;32m      5\u001b[0m     \u001b[1;32melse\u001b[0m\u001b[1;33m:\u001b[0m\u001b[1;33m\u001b[0m\u001b[1;33m\u001b[0m\u001b[0m\n",
      "\u001b[1;31mNameError\u001b[0m: name 'walletdf' is not defined"
     ]
    }
   ],
   "source": [
    "neg = []\n",
    "for index, row in walletdf.iterrows():\n",
    "    if row['Pct Gain'] < 0:\n",
    "        neg.append('r')\n",
    "    else:\n",
    "        neg.append('g')\n",
    "        \n",
    "ax =  plt.subplot()\n",
    "ax.set_xlabel('Coin')\n",
    "ax.set_ylabel('Percentage Gain')\n",
    "ax.set_xticks(list(range(0, len(walletdf.index))))\n",
    "ax.set_xticklabels(list(walletdf.Name), rotation= 90)\n",
    "fig2 = plt.bar(walletdf.index, walletdf['Pct Gain'], color = neg)\n",
    "\n",
    "\n",
    "cwd = os.getcwd()\n",
    "folder = r'\\results\\pctgain.png'\n",
    "path_plot = str(cwd) + folder\n",
    "print(path_plot)\n",
    "ax.figure.savefig(path_plot, bbox_inches = \"tight\")"
   ]
  },
  {
   "cell_type": "markdown",
   "metadata": {},
   "source": [
    "### Send Summary to Email"
   ]
  },
  {
   "cell_type": "code",
   "execution_count": 55,
   "metadata": {},
   "outputs": [],
   "source": [
    "import smtplib, ssl\n",
    "from automailcreds import mailpassword, sender_email, receiver_email\n",
    "from email.mime.multipart import MIMEMultipart\n",
    "from email.mime.text import MIMEText\n",
    "from email.message import EmailMessage\n",
    "from email.mime.base import MIMEBase\n",
    "from email.mime.image import MIMEImage\n",
    "\n",
    "#Email setup\n",
    "port = 465\n",
    "smtp_server = 'smtp.gmail.com'\n",
    "sender = sender_email\n",
    "receiver = receiver_email\n",
    "password = mailpassword\n",
    "\n",
    "context = ssl.create_default_context()"
   ]
  },
  {
   "cell_type": "code",
   "execution_count": 56,
   "metadata": {},
   "outputs": [],
   "source": [
    "conv_df = walletdf.to_html()\n",
    "htmlmsg = MIMEText(conv_df, 'html')"
   ]
  },
  {
   "cell_type": "code",
   "execution_count": 73,
   "metadata": {},
   "outputs": [],
   "source": [
    "def send_email(path_plot, smtp_server, smtp_port, from_mail, from_password, to_mail):\n",
    "    images = [cwd + r'\\results\\pctgain.png',\n",
    "             cwd + r'\\results\\distfunds.png']\n",
    "    todaydate = str(datetime.today().strftime(\"%B %d, %Y\"))\n",
    "    # Create the email message\n",
    "    msg = MIMEMultipart()\n",
    "    msg['Subject'] = f'Crypto Portfolio Update - {todaydate}'\n",
    "    msg['From'] = sender\n",
    "    msg['To'] = receiver\n",
    "\n",
    "    # Open the files in binary mode and attach to mail\n",
    "    \n",
    "    for num,filename in enumerate(images):\n",
    "        fp = open(filename, 'rb')\n",
    "        msg_img = MIMEImage(fp.read())\n",
    "        fp.close()\n",
    "        msg_img.add_header('Content-ID', '<{}>'.format(num))\n",
    "        msg_img.add_header('Content-Disposition', 'inline', filename=filename)\n",
    "        msg.attach(msg_img)\n",
    "        \n",
    "        \n",
    "    # Attach HTML body\n",
    "    msg.attach(MIMEText(\n",
    "        f'''\n",
    "        <html>\n",
    "            <body>\n",
    "                <h1 style=\"text-align: center;\">Daily BSC Wallet Update - {todaydate}</h1>\n",
    "                <h2 style=\"text-align: center;\">Today's data summarized in a table:</h2>\n",
    "                {htmlmsg}\n",
    "                <p>This chart shows the distribution of BSC coin funds.</p>\n",
    "                <p><img src=\"cid:1\"></p>\n",
    "                <p>This chart shows the percentage gain or loss for each coin (green = gain, red = loss).</p>\n",
    "                <p><img src=\"cid:0\"></p>\n",
    "            </body>\n",
    "        </html>'\n",
    "        ''',\n",
    "        'html', 'utf-8'))\n",
    "\n",
    "    # Send mail\n",
    "    server = smtplib.SMTP_SSL(smtp_server, port)\n",
    "    server.ehlo()\n",
    "    server.login(sender, password)\n",
    "\n",
    "    server.sendmail(sender, receiver, msg.as_string())\n",
    "    server.quit()\n",
    "\n",
    "\n",
    "send_email(path_plot, smtp_server, port, sender, password, receiver)"
   ]
  }
 ],
 "metadata": {
  "kernelspec": {
   "display_name": "64bit",
   "language": "python",
   "name": "64bit"
  },
  "language_info": {
   "codemirror_mode": {
    "name": "ipython",
    "version": 3
   },
   "file_extension": ".py",
   "mimetype": "text/x-python",
   "name": "python",
   "nbconvert_exporter": "python",
   "pygments_lexer": "ipython3",
   "version": "3.8.5"
  }
 },
 "nbformat": 4,
 "nbformat_minor": 5
}
